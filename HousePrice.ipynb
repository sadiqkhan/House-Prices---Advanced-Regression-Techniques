{
 "cells": [
  {
   "cell_type": "code",
   "execution_count": 1,
   "id": "4d6894d4-acda-48fd-8d8a-835c8618760c",
   "metadata": {},
   "outputs": [],
   "source": [
    "import pandas as pd\n",
    "\n",
    "# Load datasets\n",
    "train_df = pd.read_csv('D:/MLPR/houseprices/train.csv')\n",
    "test_df = pd.read_csv('D:/MLPR/houseprices/test.csv')"
   ]
  },
  {
   "cell_type": "code",
   "execution_count": 3,
   "id": "3d4093b3-6c1f-46e0-8e1a-61f17a015b01",
   "metadata": {},
   "outputs": [
    {
     "name": "stdout",
     "output_type": "stream",
     "text": [
      "train set datatypes\n",
      "Id                 int64\n",
      "MSSubClass         int64\n",
      "MSZoning          object\n",
      "LotFrontage      float64\n",
      "LotArea            int64\n",
      "                  ...   \n",
      "MoSold             int64\n",
      "YrSold             int64\n",
      "SaleType          object\n",
      "SaleCondition     object\n",
      "SalePrice          int64\n",
      "Length: 81, dtype: object\n"
     ]
    }
   ],
   "source": [
    "print(\"train set datatypes\")\n",
    "print(train_df.dtypes)"
   ]
  },
  {
   "cell_type": "code",
   "execution_count": 4,
   "id": "794b3f77-6ad5-46f0-b42c-8e5ebfc83384",
   "metadata": {},
   "outputs": [
    {
     "name": "stdout",
     "output_type": "stream",
     "text": [
      "Training set columns:\n",
      "Index(['Id', 'MSSubClass', 'MSZoning', 'LotFrontage', 'LotArea', 'Street',\n",
      "       'Alley', 'LotShape', 'LandContour', 'Utilities', 'LotConfig',\n",
      "       'LandSlope', 'Neighborhood', 'Condition1', 'Condition2', 'BldgType',\n",
      "       'HouseStyle', 'OverallQual', 'OverallCond', 'YearBuilt', 'YearRemodAdd',\n",
      "       'RoofStyle', 'RoofMatl', 'Exterior1st', 'Exterior2nd', 'MasVnrType',\n",
      "       'MasVnrArea', 'ExterQual', 'ExterCond', 'Foundation', 'BsmtQual',\n",
      "       'BsmtCond', 'BsmtExposure', 'BsmtFinType1', 'BsmtFinSF1',\n",
      "       'BsmtFinType2', 'BsmtFinSF2', 'BsmtUnfSF', 'TotalBsmtSF', 'Heating',\n",
      "       'HeatingQC', 'CentralAir', 'Electrical', '1stFlrSF', '2ndFlrSF',\n",
      "       'LowQualFinSF', 'GrLivArea', 'BsmtFullBath', 'BsmtHalfBath', 'FullBath',\n",
      "       'HalfBath', 'BedroomAbvGr', 'KitchenAbvGr', 'KitchenQual',\n",
      "       'TotRmsAbvGrd', 'Functional', 'Fireplaces', 'FireplaceQu', 'GarageType',\n",
      "       'GarageYrBlt', 'GarageFinish', 'GarageCars', 'GarageArea', 'GarageQual',\n",
      "       'GarageCond', 'PavedDrive', 'WoodDeckSF', 'OpenPorchSF',\n",
      "       'EnclosedPorch', '3SsnPorch', 'ScreenPorch', 'PoolArea', 'PoolQC',\n",
      "       'Fence', 'MiscFeature', 'MiscVal', 'MoSold', 'YrSold', 'SaleType',\n",
      "       'SaleCondition', 'SalePrice'],\n",
      "      dtype='object')\n"
     ]
    }
   ],
   "source": [
    "print(\"Training set columns:\")\n",
    "print(train_df.columns)"
   ]
  },
  {
   "cell_type": "code",
   "execution_count": 5,
   "id": "c2107f22-d5b7-42f8-8c4a-a9a1b67b5202",
   "metadata": {},
   "outputs": [
    {
     "name": "stdout",
     "output_type": "stream",
     "text": [
      "Test set columns:\n",
      "Index(['Id', 'MSSubClass', 'MSZoning', 'LotFrontage', 'LotArea', 'Street',\n",
      "       'Alley', 'LotShape', 'LandContour', 'Utilities', 'LotConfig',\n",
      "       'LandSlope', 'Neighborhood', 'Condition1', 'Condition2', 'BldgType',\n",
      "       'HouseStyle', 'OverallQual', 'OverallCond', 'YearBuilt', 'YearRemodAdd',\n",
      "       'RoofStyle', 'RoofMatl', 'Exterior1st', 'Exterior2nd', 'MasVnrType',\n",
      "       'MasVnrArea', 'ExterQual', 'ExterCond', 'Foundation', 'BsmtQual',\n",
      "       'BsmtCond', 'BsmtExposure', 'BsmtFinType1', 'BsmtFinSF1',\n",
      "       'BsmtFinType2', 'BsmtFinSF2', 'BsmtUnfSF', 'TotalBsmtSF', 'Heating',\n",
      "       'HeatingQC', 'CentralAir', 'Electrical', '1stFlrSF', '2ndFlrSF',\n",
      "       'LowQualFinSF', 'GrLivArea', 'BsmtFullBath', 'BsmtHalfBath', 'FullBath',\n",
      "       'HalfBath', 'BedroomAbvGr', 'KitchenAbvGr', 'KitchenQual',\n",
      "       'TotRmsAbvGrd', 'Functional', 'Fireplaces', 'FireplaceQu', 'GarageType',\n",
      "       'GarageYrBlt', 'GarageFinish', 'GarageCars', 'GarageArea', 'GarageQual',\n",
      "       'GarageCond', 'PavedDrive', 'WoodDeckSF', 'OpenPorchSF',\n",
      "       'EnclosedPorch', '3SsnPorch', 'ScreenPorch', 'PoolArea', 'PoolQC',\n",
      "       'Fence', 'MiscFeature', 'MiscVal', 'MoSold', 'YrSold', 'SaleType',\n",
      "       'SaleCondition'],\n",
      "      dtype='object')\n"
     ]
    }
   ],
   "source": [
    "print(\"Test set columns:\")\n",
    "print(test_df.columns)\n"
   ]
  },
  {
   "cell_type": "code",
   "execution_count": 6,
   "id": "a7688ad7-1a9e-4b2e-925a-b36f47c5d94a",
   "metadata": {},
   "outputs": [
    {
     "name": "stdout",
     "output_type": "stream",
     "text": [
      "Missing values in training set:\n",
      "Id                 0\n",
      "MSSubClass         0\n",
      "MSZoning           0\n",
      "LotFrontage      259\n",
      "LotArea            0\n",
      "                ... \n",
      "MoSold             0\n",
      "YrSold             0\n",
      "SaleType           0\n",
      "SaleCondition      0\n",
      "SalePrice          0\n",
      "Length: 81, dtype: int64\n",
      "Missing values in test set:\n",
      "Id                 0\n",
      "MSSubClass         0\n",
      "MSZoning           4\n",
      "LotFrontage      227\n",
      "LotArea            0\n",
      "                ... \n",
      "MiscVal            0\n",
      "MoSold             0\n",
      "YrSold             0\n",
      "SaleType           1\n",
      "SaleCondition      0\n",
      "Length: 80, dtype: int64\n"
     ]
    }
   ],
   "source": [
    "# Check for missing values in the training set\n",
    "print(\"Missing values in training set:\")\n",
    "print(train_df.isnull().sum())\n",
    "\n",
    "# Check for missing values in the test set\n",
    "print(\"Missing values in test set:\")\n",
    "print(test_df.isnull().sum())"
   ]
  },
  {
   "cell_type": "code",
   "execution_count": 7,
   "id": "14414188-cbbc-450d-bb30-787cce24abcb",
   "metadata": {},
   "outputs": [],
   "source": [
    "# Compute median for 'LotFrontage' from training data\n",
    "median_lot_frontage = train_df['LotFrontage'].median()\n",
    "\n",
    "# Impute missing values in 'LotFrontage' in both training and test sets\n",
    "train_df['LotFrontage'].fillna(median_lot_frontage, inplace=True)\n",
    "test_df['LotFrontage'].fillna(median_lot_frontage, inplace=True)"
   ]
  },
  {
   "cell_type": "code",
   "execution_count": 8,
   "id": "79dbf6ba-0954-434b-aaa4-aa5eb9b26534",
   "metadata": {},
   "outputs": [],
   "source": [
    "# Compute mode for 'MSZoning' and 'SaleType'\n",
    "mode_mszoning = train_df['MSZoning'].mode()[0]\n",
    "mode_saletype = train_df['SaleType'].mode()[0]\n",
    "\n",
    "# Impute missing values in 'MSZoning' and 'SaleType' in test set\n",
    "test_df['MSZoning'].fillna(mode_mszoning, inplace=True)\n",
    "test_df['SaleType'].fillna(mode_saletype, inplace=True)"
   ]
  },
  {
   "cell_type": "code",
   "execution_count": 10,
   "id": "d114c51d-9571-4174-af7d-37d77d3e564a",
   "metadata": {},
   "outputs": [],
   "source": [
    "# Threshold for dropping columns (e.g., 50%)\n",
    "threshold = 0.5 * len(train_df)\n",
    "\n",
    "# Drop columns with high missing values in training set\n",
    "train_df = train_df.dropna(thresh=threshold, axis=1)"
   ]
  },
  {
   "cell_type": "code",
   "execution_count": 11,
   "id": "8195c7d2-d242-4839-afa2-a678d33d4efe",
   "metadata": {},
   "outputs": [],
   "source": [
    "# Create missing value indicators in training set\n",
    "for column in train_df.columns:\n",
    "    if train_df[column].isnull().any():\n",
    "        train_df[column + '_missing'] = train_df[column].isnull()\n",
    "\n",
    "# Create missing value indicators in test set\n",
    "for column in test_df.columns:\n",
    "    if test_df[column].isnull().any():\n",
    "        test_df[column + '_missing'] = test_df[column].isnull()"
   ]
  },
  {
   "cell_type": "code",
   "execution_count": 30,
   "id": "f939ecde-9dab-404c-af34-f707c112fd3e",
   "metadata": {},
   "outputs": [
    {
     "name": "stdout",
     "output_type": "stream",
     "text": [
      "Validation RMSE: 28830.56\n",
      "Normalized RMSE (as a fraction of mean SalePrice): 0.16\n",
      "Predictions saved to 'predicted_house_prices.csv'\n"
     ]
    }
   ],
   "source": [
    "import pandas as pd\n",
    "from sklearn.ensemble import RandomForestRegressor\n",
    "from sklearn.preprocessing import OneHotEncoder, StandardScaler\n",
    "from sklearn.compose import ColumnTransformer\n",
    "from sklearn.pipeline import Pipeline\n",
    "from sklearn.impute import SimpleImputer\n",
    "from sklearn.model_selection import train_test_split\n",
    "from sklearn.metrics import mean_squared_error\n",
    "import numpy as np\n",
    "\n",
    "# Extract features and target from the training set\n",
    "X_train = train_df.drop(['SalePrice'], axis=1)\n",
    "y_train = train_df['SalePrice']\n",
    "\n",
    "# Extract features from the test set\n",
    "X_test = test_df.copy()\n",
    "\n",
    "# Identify categorical and numerical features\n",
    "categorical_features = X_train.select_dtypes(include=['object']).columns\n",
    "numerical_features = X_train.select_dtypes(include=['number']).columns\n",
    "\n",
    "# Create a list of all features\n",
    "all_features = list(numerical_features) + list(categorical_features)\n",
    "\n",
    "# Ensure both train and test data have all columns\n",
    "def align_columns(df, all_features):\n",
    "    for col in all_features:\n",
    "        if col not in df.columns:\n",
    "            df[col] = pd.NA\n",
    "    return df[all_features]\n",
    "\n",
    "X_train_aligned = align_columns(X_train, all_features)\n",
    "X_test_aligned = align_columns(X_test, all_features)\n",
    "\n",
    "# Split the training data into training and validation sets\n",
    "X_train_split, X_val_split, y_train_split, y_val_split = train_test_split(\n",
    "    X_train_aligned, y_train, test_size=0.2, random_state=42\n",
    ")\n",
    "\n",
    "# Define preprocessing steps for numerical and categorical features\n",
    "preprocessor = ColumnTransformer(\n",
    "    transformers=[\n",
    "        ('num', Pipeline(steps=[\n",
    "            ('imputer', SimpleImputer(strategy='median')),\n",
    "            ('scaler', StandardScaler())  # Scale numerical features\n",
    "        ]), numerical_features),\n",
    "        ('cat', Pipeline(steps=[\n",
    "            ('imputer', SimpleImputer(strategy='most_frequent')),\n",
    "            ('onehot', OneHotEncoder(handle_unknown='ignore', sparse_output=False))\n",
    "        ]), categorical_features)\n",
    "    ],\n",
    "    remainder='passthrough'  # Leave any other features unchanged\n",
    ")\n",
    "\n",
    "# Initialize the Random Forest Regressor\n",
    "model = Pipeline(steps=[\n",
    "    ('preprocessor', preprocessor),\n",
    "    ('regressor', RandomForestRegressor(n_estimators=100, random_state=42))\n",
    "])\n",
    "\n",
    "# Train the model\n",
    "model.fit(X_train_split, y_train_split)\n",
    "\n",
    "# Make predictions on the validation set\n",
    "y_val_pred = model.predict(X_val_split)\n",
    "\n",
    "# Calculate RMSE\n",
    "rmse = np.sqrt(mean_squared_error(y_val_split, y_val_pred))\n",
    "\n",
    "# Normalize RMSE by dividing it by the mean of the actual values\n",
    "mean_sale_price = y_val_split.mean()\n",
    "normalized_rmse = rmse / mean_sale_price\n",
    "\n",
    "print(f'Validation RMSE: {rmse:.2f}')\n",
    "print(f'Normalized RMSE (as a fraction of mean SalePrice): {normalized_rmse:.2f}')\n",
    "\n",
    "# Make predictions on the test set\n",
    "X_test_transformed = preprocessor.transform(X_test_aligned)\n",
    "predictions = model.named_steps['regressor'].predict(X_test_transformed)\n",
    "\n",
    "# Prepare the output DataFrame\n",
    "output_df = pd.DataFrame({\n",
    "    'Id': test_df['Id'],  # Ensure this column is present in test_df\n",
    "    'SalePrice': predictions\n",
    "})\n",
    "\n",
    "# Save the predictions to a new CSV file\n",
    "output_df.to_csv('D:/MLPR/houseprices/4predicted_house_prices.csv', index=False)\n",
    "\n",
    "print(\"Predictions saved to 'predicted_house_prices.csv'\")\n"
   ]
  },
  {
   "cell_type": "code",
   "execution_count": null,
   "id": "0e97b8e3-4c83-4f78-adc9-68b635005e03",
   "metadata": {},
   "outputs": [],
   "source": []
  }
 ],
 "metadata": {
  "kernelspec": {
   "display_name": "Python 3 (ipykernel)",
   "language": "python",
   "name": "python3"
  },
  "language_info": {
   "codemirror_mode": {
    "name": "ipython",
    "version": 3
   },
   "file_extension": ".py",
   "mimetype": "text/x-python",
   "name": "python",
   "nbconvert_exporter": "python",
   "pygments_lexer": "ipython3",
   "version": "3.8.19"
  }
 },
 "nbformat": 4,
 "nbformat_minor": 5
}
